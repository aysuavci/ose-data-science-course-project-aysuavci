{
 "cells": [
  {
   "cell_type": "markdown",
   "metadata": {},
   "source": [
    "--- \n",
    "Project for the course in Microeconometrics | Summer 2021, M.Sc. Economics, Bonn University | [Aysu Avcı](https://github.com/aysuavci)\n",
    "\n",
    "# Replication of Zimmermann (2020) <a class=\"tocSkip\">   \n",
    "---"
   ]
  },
  {
   "cell_type": "code",
   "execution_count": 1,
   "metadata": {
    "scrolled": true
   },
   "outputs": [
    {
     "name": "stdout",
     "output_type": "stream",
     "text": [
      "Requirement already satisfied: stargazer in /Users/aysuavci/opt/anaconda3/lib/python3.8/site-packages (0.0.5)\r\n"
     ]
    }
   ],
   "source": [
    "!pip install stargazer"
   ]
  },
  {
   "cell_type": "code",
   "execution_count": 2,
   "metadata": {
    "scrolled": true
   },
   "outputs": [
    {
     "name": "stdout",
     "output_type": "stream",
     "text": [
      "Requirement already satisfied: matplotlib in /Users/aysuavci/opt/anaconda3/lib/python3.8/site-packages (3.4.2)\n",
      "Requirement already satisfied: pyparsing>=2.2.1 in /Users/aysuavci/opt/anaconda3/lib/python3.8/site-packages (from matplotlib) (2.4.7)\n",
      "Requirement already satisfied: numpy>=1.16 in /Users/aysuavci/opt/anaconda3/lib/python3.8/site-packages (from matplotlib) (1.19.2)\n",
      "Requirement already satisfied: cycler>=0.10 in /Users/aysuavci/opt/anaconda3/lib/python3.8/site-packages (from matplotlib) (0.10.0)\n",
      "Requirement already satisfied: python-dateutil>=2.7 in /Users/aysuavci/opt/anaconda3/lib/python3.8/site-packages (from matplotlib) (2.8.1)\n",
      "Requirement already satisfied: kiwisolver>=1.0.1 in /Users/aysuavci/opt/anaconda3/lib/python3.8/site-packages (from matplotlib) (1.3.0)\n",
      "Requirement already satisfied: pillow>=6.2.0 in /Users/aysuavci/opt/anaconda3/lib/python3.8/site-packages (from matplotlib) (8.0.1)\n",
      "Requirement already satisfied: six in /Users/aysuavci/opt/anaconda3/lib/python3.8/site-packages (from cycler>=0.10->matplotlib) (1.15.0)\n"
     ]
    }
   ],
   "source": [
    "!pip install matplotlib"
   ]
  },
  {
   "cell_type": "code",
   "execution_count": 3,
   "metadata": {},
   "outputs": [
    {
     "name": "stdout",
     "output_type": "stream",
     "text": [
      "Requirement already up-to-date: matplotlib in /Users/aysuavci/opt/anaconda3/lib/python3.8/site-packages (3.4.2)\r\n",
      "Requirement already satisfied, skipping upgrade: cycler>=0.10 in /Users/aysuavci/opt/anaconda3/lib/python3.8/site-packages (from matplotlib) (0.10.0)\r\n",
      "Requirement already satisfied, skipping upgrade: pyparsing>=2.2.1 in /Users/aysuavci/opt/anaconda3/lib/python3.8/site-packages (from matplotlib) (2.4.7)\r\n",
      "Requirement already satisfied, skipping upgrade: python-dateutil>=2.7 in /Users/aysuavci/opt/anaconda3/lib/python3.8/site-packages (from matplotlib) (2.8.1)\r\n",
      "Requirement already satisfied, skipping upgrade: numpy>=1.16 in /Users/aysuavci/opt/anaconda3/lib/python3.8/site-packages (from matplotlib) (1.19.2)\r\n",
      "Requirement already satisfied, skipping upgrade: kiwisolver>=1.0.1 in /Users/aysuavci/opt/anaconda3/lib/python3.8/site-packages (from matplotlib) (1.3.0)\r\n",
      "Requirement already satisfied, skipping upgrade: pillow>=6.2.0 in /Users/aysuavci/opt/anaconda3/lib/python3.8/site-packages (from matplotlib) (8.0.1)\r\n",
      "Requirement already satisfied, skipping upgrade: six in /Users/aysuavci/opt/anaconda3/lib/python3.8/site-packages (from cycler>=0.10->matplotlib) (1.15.0)\r\n"
     ]
    }
   ],
   "source": [
    "!pip install -U matplotlib"
   ]
  },
  {
   "cell_type": "markdown",
   "metadata": {},
   "source": [
    "This notebook contains the replication of the following study:\n",
    "\n",
    "> [Zimmermann, F. (2020). The Dynamics of Motivated Beliefs. American Economic Review, 110(2), 337–363](https://www.aeaweb.org/articles?id=10.1257/aer.20180728).\n",
    "\n",
    "\n",
    "##### Notes:\n",
    "\n",
    "* I try to remain true to the original naming of the variables, figures and tables as in the study of Zimmermann (2020), so that viewing and comparison would be more convenient.\n",
    "\n",
    "* For the best viewing, the responsitory can be downloaded from [here](https://github.com/OpenSourceEconomics/ose-data-science-course-project-aysuavci)."
   ]
  },
  {
   "cell_type": "code",
   "execution_count": 15,
   "metadata": {},
   "outputs": [],
   "source": [
    "%matplotlib inline\n",
    "import numpy as np\n",
    "import pandas as pd\n",
    "import pandas.io.formats.style\n",
    "import seaborn as sns\n",
    "import statsmodels as sm\n",
    "import statsmodels.formula.api as smf\n",
    "import statsmodels.api as sm_api\n",
    "import matplotlib as plt\n",
    "from IPython.display import HTML\n",
    "from stargazer.stargazer import Stargazer, LineLocation\n",
    "from statsmodels.iolib.summary2 import summary_col"
   ]
  },
  {
   "cell_type": "code",
   "execution_count": 16,
   "metadata": {},
   "outputs": [],
   "source": [
    "from auxiliary.auxiliary_tools import *\n",
    "from auxiliary.auxiliary_plots import *\n",
    "from auxiliary.auxiliary_tables import *"
   ]
  },
  {
   "cell_type": "markdown",
   "metadata": {},
   "source": [
    "---\n",
    "# 1.Introduction \n",
    "---\n",
    "\n",
    "The study of Zimmermann(2020) is a lab experiment aiming to examine how motivated beliefs held by individuals continues to be sustained after receiving positive or negative feedback.\n",
    "The study can be divided into 3 parts:\n",
    "\n",
    "1. The first part of the study-named “**Motivated Belief Dynamics**” in the paper- is the main study for investigating the causality between different types of feedback (positive or negative) received and reconstruction of belief patterns depending on the elicitation time (directly or 1 month) of the belief after the experiment. \n",
    "2. The second part of the study-named “**The Role of Memory**” in the paper- investigates the asymmetry in the accuracy of feedback recall and also recall of IQ test in general that they solve as a part of the experiment. \n",
    "3. The final part of the study-named “**The Trade-Off between Motivated and Accurate Belief**” in the paper- that questions whether incentivizing for recall accuracy could mitigate the motivated reasoning that participants employ.\n",
    "\n",
    "In this project notebook, the main study-first part- will be replicated; the part where Zimmermann (2020) used also **difference-in-difference (DID) models** for their estimations. In the next section (Section 2), I will give a quick background I will explain the relevant parts of the experimental design for the two parts of the study and introduce all treatment groups and variables that are going to be mentioned in this notebook. In Section 3, I will explain the estimation strategy employed by Zimmermann (2020) and the models being used….(going to change)\n"
   ]
  },
  {
   "cell_type": "markdown",
   "metadata": {},
   "source": [
    "---\n",
    "# 2. Background for the Experiment and Hypothesis\n",
    "---\n",
    "Personally, I have always been interested in the question of how individual beliefs are formed and sustained or changed over time. In the neoclassical economics framework, any changes in beliefs follow Bayes Rule’s since it is accepted that all agents are rational and unbiased. However, many studies in the literature of motivated beliefs showed that individuals deviate from these Bayesian predictions and manipulate their beliefs in a self-serving way; and some studies like Eil and Rao 2011 or Zimmermann 2020 tried to address the asymmetry in belief updating as well. I see the study of Zimmermann (2020) as an influential study to study motivated belief dynamics because of the experiment design that is been employed. The design of Zimmermann (2020) allows comparing the belief updating across signals received (asymmetry) and also across time (short-run and long-run updating) by employing control and various treatment groups.\n",
    " \n",
    "**Main Hypothesis:** *Individuals’ engagement with belief updating follows an asymmetric pattern, putting more weight on positive signals and less on the negative signals, which is more pronounced for long-term since negative signal’s effects fade over time.* \n",
    "\n",
    "Using DID models for analysis is suitable for this study because, first of all, it is impossible to make one experiment subject expose to two different treatments while keeping everything constant in this experiment to examine individual-level effects. Secondly, since this is a randomly assigned experiment we can assume subjects do not differ between the control group and treatment groups. Also, between the control group and treatment group Zimmermann (2020) made sure to keep everything constant and only made the feedback condition vary. Also, DID was easily implemented as an interaction term between time treatment and feedback dummy allowing for causal inferences on belief dynamics in line with the researcher’s goal and with the group of interest which is the individuals who received a negative signal and in the treatment group 1 month and their differences compared to other groups in belief updating. In addition to these, employing DID models also allowed Zimmermann(2020) to add the fixed rank effects interacted with treatment which serve as a control for possible  chracteristic difference due to rank groups between treatments. Also, having a control condition for 1-month treatment which serve as a robustness check for potential beliefs changes due to time trends that may exist in the absence of feedback. "
   ]
  },
  {
   "cell_type": "markdown",
   "metadata": {},
   "source": [
    "---\n",
    "# 3. Experimental Design\n",
    "---\n",
    "1. Subjects completed an IQ test where they need to solve 10 Raven matrices.\n",
    "2. Subjects were randomly assigned to groups of 10.\n",
    "3. Subjects were asked to estimate their belief about the likelihood of being ranked in the upper half of their group in terms of a percentage point. Full probability distributions for every possible rank is also elicited.\n",
    "4. Subjects were given noisy but true information about their rank by randomly selecting 3 participants from their group and telling them whether they were rank higher or lower than these 3 participants. If a subject is told that they ranked higher than 2 or 3 participants in their group, the subject is considered to be in the positive feedback group. They considered being in the negative feedback group if otherwise.\n",
    "5. After receiving the feedbacks, subjects are divided into two treatment groups randomly: `condifence_direct` and `confidence_1monthlater`.\n",
    "6. In the `confidence_1monthlater` treatment, subjects are asked to elicit their beliefs 1 month later; and in the `condifence_direct` treatment, group subjects are asked to elicit their beliefs after the feedback. `condifence_direct`has also two subgroups: `condifence_direct_immediate` and `condifence_direct_15minutelater`.\n",
    "\n",
    "\n",
    "**Main Variables**\n",
    "\n",
    "|Treatment groups|Feedback types|Outcomes|Other variables|\n",
    "|---|---|---|---|\n",
    "|`confidence_1monthlater`|Positive|Belief Adjustment|rank|\n",
    "|`condifence_direct_immediate`|Negative||\n",
    "|`condifence_direct_15minutelater`|||\n",
    "|`no_feedback`|||\n"
   ]
  },
  {
   "cell_type": "markdown",
   "metadata": {},
   "source": [
    "---\n",
    "# 4. Identification\n",
    "--- "
   ]
  },
  {
   "cell_type": "markdown",
   "metadata": {},
   "source": [
    "The first part of the experiment is dedicated to investigating the causality between the effect of feedback and belief adjustments of participants that are in two different treatment groups that vary depending on time: _CondifenceDirect_ and _Condifence1month_. The causality is established by two key components in the experiment. First of all, Zimmermann(2020) elicit peoples prior beliefs about their probability of ranking in the upper half of the group and then they elicited again after participants received the feedback. So, for each participant, they had a clear measure of belief updating which is possibly caused by the feedback and in line with the type of feedback. The second and the most important component of the experiment, that ensured causal identification, is the noisy feedback component. In this experiment rather than randomly assigning a subject into a negative or positive feedback group directly, Zimmermann(2020) randomly choose 3 other participants within the subject’s group to compare their rank and provide them with 3 comparisons. In this way, subjects indeed received true feedback but a noisy one. So, it is possible for two subjects with the same rank to receive different types of feedback. By adopting such an experimental design, Zimmermann(2020) ensured that potential asymmetries in the belief dynamics cannot be explained by the individual difference between participants. \n",
    "\n",
    "In addition to investigating the causal relationship between belief dynamics and feedback, another goal of the experiment is to observe the effect of time on this relationship. For that, Zimmermann(2020) assigned participants randomly to two groups: Confidence1month and CondifenceDirect. ConfidenceDirect is also divided into two subgroups(immediate and 15 minutes later belief elicitation) to investigate the possible short-term dynamics in belief adjustment, however, this replication will not cover that part of the study. \n",
    "\n",
    "CHANGE THE GRAPH"
   ]
  },
  {
   "cell_type": "markdown",
   "metadata": {},
   "source": [
    "---\n",
    "# 5. Empirical Strategy\n",
    "---\n"
   ]
  },
  {
   "cell_type": "markdown",
   "metadata": {},
   "source": [
    "In the study, the belief adjustment is defined as the difference between the elicited belief after the feedback and the belief before the feedback, formally\n",
    "\n",
    "\\begin{equation}\n",
    "Pr(upperhalf)^{post}_{i} - Pr(upperhalf)^{prior}_{i}\n",
    "\\end{equation}\n",
    "\n",
    "where $Pr(upperhalf)_{i}$ represents the subject ${i}$'s given probability of being in the upperhalf of the group.\n",
    "\n",
    "To compare belief adjustments between positive and negative feedbacks, a normalized version of the belief adjustment norm is also formed as below:\n",
    "\n",
    "\n",
    "$$\n",
    "beliefadjustmentnorm_i = \\left\\{\n",
    "    \\begin{array}\\\\\n",
    "        Pr(upperhalf)^{post}_{i} - Pr(upperhalf)^{prior}_{i} & \\mbox{if } \\ feedback \\ positive \\\\\n",
    "        (-1) x (Pr(upperhalf)^{post}_{i} - Pr(upperhalf)^{prior}_{i}) & \\mbox{if } \\ feedback \\ negative \\\\\n",
    "    \\end{array}\n",
    "\\right.\n",
    "$$\n",
    "\n",
    "\n",
    "The difference-in-difference models, formally in the form of \n",
    "\n",
    "\\begin{equation}\n",
    "beliefadjustmentnorm_i = \\alpha + \\beta feedback_i + \\gamma T_i + \\delta I_i + X_i \\gamma + \\epsilon_i\n",
    "\\end{equation}\n",
    "\n",
    "are estimated for the purpose of establishing dynamic belief patterns. $feedback_i$ is the dummy variable for feedback and $T_i$ is the type of treatment. $I_i$ is for the interation term that is a generated dummy for the interest group, interest group being subjects who are in the `confidence_1monthlater`and received a negative feedback; parameter $\\delta$ is therefore captures the belief dynamics. In order to form a causal inference, Zimmermann (2020) control for rank and IQ test scores; these variables are captured by $X_i$, set of control variables. \n",
    "\n",
    "As another control variable, Bayesian belief adjustments are also used for some specifications. Zimmermann (2020) calculated Bayesian predictions, using individuals full prior probability distribution and the feedback type that they received. The Bayesian belief adjustment is then, produced in the same way as the belief adjustment\n",
    "\n",
    "\\begin{equation}\n",
    "Pr(upperhalf)^{postBayes}_{i} - Pr(upperhalf)^{prior}_{i}\n",
    "\\end{equation}\n",
    "\n",
    "where $Pr(upperhalf)^{postBayes}_{i}$ is the calculated Bayesian prediction for the subject $i$.\n",
    "\n",
    "Another specification within the study is adding the rank fixed effects interacted with treatment. In this way, Zimmermann (2020) was able to control the differentiation of possible different characteristics due to ranking between treatment groups.\n",
    "\n",
    "Zimmermann (2020) choose to perform ordinary least square (OLS) estimates with type HC1 heteroscedasticity robust covariance. Most of the main results are produced with this linear regression and I will use this type of regression in the table replications."
   ]
  },
  {
   "cell_type": "markdown",
   "metadata": {},
   "source": [
    "---\n",
    "# 6. Replication of Zimmermann (2020)\n",
    "---\n",
    "## 6.1. Main Results\n",
    "### 6.1.1 Data & Descriptive Statistics"
   ]
  },
  {
   "cell_type": "code",
   "execution_count": 5,
   "metadata": {},
   "outputs": [],
   "source": [
    "df = pd.read_stata('data/data.dta')"
   ]
  },
  {
   "cell_type": "code",
   "execution_count": 18,
   "metadata": {},
   "outputs": [],
   "source": [
    "#Adjustments for better viewing\n",
    "pd.set_option(\"display.max.columns\", None)\n",
    "pd.set_option(\"display.precision\", 7)\n",
    "pd.set_option(\"display.max.rows\", 30)"
   ]
  },
  {
   "cell_type": "code",
   "execution_count": 19,
   "metadata": {},
   "outputs": [
    {
     "data": {
      "text/html": [
       "<div>\n",
       "<style scoped>\n",
       "    .dataframe tbody tr th:only-of-type {\n",
       "        vertical-align: middle;\n",
       "    }\n",
       "\n",
       "    .dataframe tbody tr th {\n",
       "        vertical-align: top;\n",
       "    }\n",
       "\n",
       "    .dataframe thead th {\n",
       "        text-align: right;\n",
       "    }\n",
       "</style>\n",
       "<table border=\"1\" class=\"dataframe\">\n",
       "  <thead>\n",
       "    <tr style=\"text-align: right;\">\n",
       "      <th></th>\n",
       "      <th>treatment</th>\n",
       "      <th>rscore</th>\n",
       "      <th>performance1</th>\n",
       "      <th>performance2</th>\n",
       "      <th>performance3</th>\n",
       "      <th>performance4</th>\n",
       "      <th>performance5</th>\n",
       "      <th>performance6</th>\n",
       "      <th>performance7</th>\n",
       "      <th>performance8</th>\n",
       "      <th>performance9</th>\n",
       "      <th>wspt</th>\n",
       "      <th>donation</th>\n",
       "      <th>prior_median</th>\n",
       "      <th>prior_1</th>\n",
       "      <th>prior_2</th>\n",
       "      <th>prior_3</th>\n",
       "      <th>prior_4</th>\n",
       "      <th>prior_5</th>\n",
       "      <th>prior_6</th>\n",
       "      <th>prior_7</th>\n",
       "      <th>prior_8</th>\n",
       "      <th>prior_9</th>\n",
       "      <th>prior_10</th>\n",
       "      <th>rank</th>\n",
       "      <th>pos_comparisons</th>\n",
       "      <th>neg_comparisons</th>\n",
       "      <th>repeat_neg_comparisons</th>\n",
       "      <th>repeat_pos_comparisons</th>\n",
       "      <th>risk_investment</th>\n",
       "      <th>recall_neg_comparisons</th>\n",
       "      <th>recall_pos_comparisons</th>\n",
       "      <th>big5_1</th>\n",
       "      <th>big5_2</th>\n",
       "      <th>big5_3</th>\n",
       "      <th>big5_4</th>\n",
       "      <th>big5_5</th>\n",
       "      <th>big5_6</th>\n",
       "      <th>big5_7</th>\n",
       "      <th>big5_8</th>\n",
       "      <th>big5_9</th>\n",
       "      <th>big5_10</th>\n",
       "      <th>big5_11</th>\n",
       "      <th>big5_12</th>\n",
       "      <th>big5_13</th>\n",
       "      <th>big5_14</th>\n",
       "      <th>big5_15</th>\n",
       "      <th>gender</th>\n",
       "      <th>field_of_study</th>\n",
       "      <th>student</th>\n",
       "      <th>posterior_median</th>\n",
       "      <th>recallfeedback</th>\n",
       "      <th>qualtrics</th>\n",
       "      <th>recall_part_IQtest</th>\n",
       "      <th>recall_part_feedback</th>\n",
       "      <th>recall_parts_nonIQ</th>\n",
       "      <th>pricelist1</th>\n",
       "      <th>pricelist2</th>\n",
       "      <th>pricelist3</th>\n",
       "      <th>pricelist4</th>\n",
       "      <th>pricelist5</th>\n",
       "      <th>pricelist6</th>\n",
       "      <th>pricelist7</th>\n",
       "      <th>pricelist8</th>\n",
       "      <th>pricelist9</th>\n",
       "      <th>pricelist10</th>\n",
       "      <th>pricelist11</th>\n",
       "      <th>pricelist12</th>\n",
       "      <th>pricelist13</th>\n",
       "      <th>pricelist14</th>\n",
       "      <th>pricelist15</th>\n",
       "      <th>treatgroup</th>\n",
       "      <th>dummynews_goodbad</th>\n",
       "      <th>beliefadjustment</th>\n",
       "      <th>beliefadjustment_normalized</th>\n",
       "      <th>post_1</th>\n",
       "      <th>post_2</th>\n",
       "      <th>post_3</th>\n",
       "      <th>post_4</th>\n",
       "      <th>post_5</th>\n",
       "      <th>post_6</th>\n",
       "      <th>post_7</th>\n",
       "      <th>post_8</th>\n",
       "      <th>post_9</th>\n",
       "      <th>post_10</th>\n",
       "      <th>posterior_median_bayes</th>\n",
       "      <th>beliefadjustment_bayes</th>\n",
       "      <th>beliefadjustment_bayes_norm</th>\n",
       "      <th>dummytreat_direct1month</th>\n",
       "    </tr>\n",
       "  </thead>\n",
       "  <tbody>\n",
       "    <tr>\n",
       "      <th>0</th>\n",
       "      <td>belief_announcement</td>\n",
       "      <td>4</td>\n",
       "      <td>1</td>\n",
       "      <td>3</td>\n",
       "      <td>4</td>\n",
       "      <td>4</td>\n",
       "      <td>5</td>\n",
       "      <td>5</td>\n",
       "      <td>5</td>\n",
       "      <td>6</td>\n",
       "      <td>8</td>\n",
       "      <td>6</td>\n",
       "      <td>1</td>\n",
       "      <td>53</td>\n",
       "      <td>2</td>\n",
       "      <td>4</td>\n",
       "      <td>9</td>\n",
       "      <td>14</td>\n",
       "      <td>24</td>\n",
       "      <td>16</td>\n",
       "      <td>13</td>\n",
       "      <td>9</td>\n",
       "      <td>7</td>\n",
       "      <td>2</td>\n",
       "      <td>7</td>\n",
       "      <td>2.0</td>\n",
       "      <td>1.0</td>\n",
       "      <td>1.0</td>\n",
       "      <td>2.0</td>\n",
       "      <td>80</td>\n",
       "      <td>1.0</td>\n",
       "      <td>2.0</td>\n",
       "      <td>1</td>\n",
       "      <td>2</td>\n",
       "      <td>4</td>\n",
       "      <td>3</td>\n",
       "      <td>2</td>\n",
       "      <td>4</td>\n",
       "      <td>3</td>\n",
       "      <td>4</td>\n",
       "      <td>2</td>\n",
       "      <td>5</td>\n",
       "      <td>3</td>\n",
       "      <td>4</td>\n",
       "      <td>3</td>\n",
       "      <td>4</td>\n",
       "      <td>4</td>\n",
       "      <td>0</td>\n",
       "      <td>Geographie</td>\n",
       "      <td>1</td>\n",
       "      <td>68.0</td>\n",
       "      <td>NaN</td>\n",
       "      <td>NaN</td>\n",
       "      <td>NaN</td>\n",
       "      <td>NaN</td>\n",
       "      <td>NaN</td>\n",
       "      <td>NaN</td>\n",
       "      <td>NaN</td>\n",
       "      <td>NaN</td>\n",
       "      <td>NaN</td>\n",
       "      <td>NaN</td>\n",
       "      <td>NaN</td>\n",
       "      <td>NaN</td>\n",
       "      <td>NaN</td>\n",
       "      <td>NaN</td>\n",
       "      <td>NaN</td>\n",
       "      <td>NaN</td>\n",
       "      <td>NaN</td>\n",
       "      <td>NaN</td>\n",
       "      <td>NaN</td>\n",
       "      <td>NaN</td>\n",
       "      <td>1</td>\n",
       "      <td>0.0</td>\n",
       "      <td>15.0</td>\n",
       "      <td>15.0</td>\n",
       "      <td>0.000000</td>\n",
       "      <td>0.0348774</td>\n",
       "      <td>0.1201635</td>\n",
       "      <td>0.2059946</td>\n",
       "      <td>0.3269755</td>\n",
       "      <td>0.1743869</td>\n",
       "      <td>0.0956403</td>\n",
       "      <td>0.0343324</td>\n",
       "      <td>0.0076294</td>\n",
       "      <td>0.0000000</td>\n",
       "      <td>68.8010899</td>\n",
       "      <td>15.8010899</td>\n",
       "      <td>15.8010899</td>\n",
       "      <td>NaN</td>\n",
       "    </tr>\n",
       "    <tr>\n",
       "      <th>1</th>\n",
       "      <td>belief_announcement</td>\n",
       "      <td>6</td>\n",
       "      <td>3</td>\n",
       "      <td>4</td>\n",
       "      <td>5</td>\n",
       "      <td>5</td>\n",
       "      <td>6</td>\n",
       "      <td>6</td>\n",
       "      <td>7</td>\n",
       "      <td>8</td>\n",
       "      <td>9</td>\n",
       "      <td>7</td>\n",
       "      <td>5</td>\n",
       "      <td>70</td>\n",
       "      <td>10</td>\n",
       "      <td>10</td>\n",
       "      <td>10</td>\n",
       "      <td>20</td>\n",
       "      <td>20</td>\n",
       "      <td>10</td>\n",
       "      <td>5</td>\n",
       "      <td>5</td>\n",
       "      <td>5</td>\n",
       "      <td>5</td>\n",
       "      <td>4</td>\n",
       "      <td>2.0</td>\n",
       "      <td>1.0</td>\n",
       "      <td>1.0</td>\n",
       "      <td>2.0</td>\n",
       "      <td>150</td>\n",
       "      <td>1.0</td>\n",
       "      <td>2.0</td>\n",
       "      <td>2</td>\n",
       "      <td>2</td>\n",
       "      <td>6</td>\n",
       "      <td>2</td>\n",
       "      <td>5</td>\n",
       "      <td>2</td>\n",
       "      <td>7</td>\n",
       "      <td>2</td>\n",
       "      <td>2</td>\n",
       "      <td>7</td>\n",
       "      <td>3</td>\n",
       "      <td>6</td>\n",
       "      <td>2</td>\n",
       "      <td>2</td>\n",
       "      <td>3</td>\n",
       "      <td>1</td>\n",
       "      <td>psychologie</td>\n",
       "      <td>1</td>\n",
       "      <td>60.0</td>\n",
       "      <td>NaN</td>\n",
       "      <td>NaN</td>\n",
       "      <td>NaN</td>\n",
       "      <td>NaN</td>\n",
       "      <td>NaN</td>\n",
       "      <td>NaN</td>\n",
       "      <td>NaN</td>\n",
       "      <td>NaN</td>\n",
       "      <td>NaN</td>\n",
       "      <td>NaN</td>\n",
       "      <td>NaN</td>\n",
       "      <td>NaN</td>\n",
       "      <td>NaN</td>\n",
       "      <td>NaN</td>\n",
       "      <td>NaN</td>\n",
       "      <td>NaN</td>\n",
       "      <td>NaN</td>\n",
       "      <td>NaN</td>\n",
       "      <td>NaN</td>\n",
       "      <td>NaN</td>\n",
       "      <td>1</td>\n",
       "      <td>0.0</td>\n",
       "      <td>-10.0</td>\n",
       "      <td>-10.0</td>\n",
       "      <td>0.000000</td>\n",
       "      <td>0.0910384</td>\n",
       "      <td>0.1394026</td>\n",
       "      <td>0.3072546</td>\n",
       "      <td>0.2844950</td>\n",
       "      <td>0.1137980</td>\n",
       "      <td>0.0384068</td>\n",
       "      <td>0.0199147</td>\n",
       "      <td>0.0056899</td>\n",
       "      <td>0.0000000</td>\n",
       "      <td>82.2190612</td>\n",
       "      <td>12.2190612</td>\n",
       "      <td>12.2190612</td>\n",
       "      <td>NaN</td>\n",
       "    </tr>\n",
       "    <tr>\n",
       "      <th>2</th>\n",
       "      <td>belief_announcement</td>\n",
       "      <td>8</td>\n",
       "      <td>4</td>\n",
       "      <td>6</td>\n",
       "      <td>7</td>\n",
       "      <td>7</td>\n",
       "      <td>7</td>\n",
       "      <td>8</td>\n",
       "      <td>8</td>\n",
       "      <td>9</td>\n",
       "      <td>10</td>\n",
       "      <td>5</td>\n",
       "      <td>3</td>\n",
       "      <td>85</td>\n",
       "      <td>1</td>\n",
       "      <td>4</td>\n",
       "      <td>30</td>\n",
       "      <td>30</td>\n",
       "      <td>20</td>\n",
       "      <td>9</td>\n",
       "      <td>2</td>\n",
       "      <td>2</td>\n",
       "      <td>1</td>\n",
       "      <td>1</td>\n",
       "      <td>3</td>\n",
       "      <td>3.0</td>\n",
       "      <td>0.0</td>\n",
       "      <td>0.0</td>\n",
       "      <td>2.0</td>\n",
       "      <td>80</td>\n",
       "      <td>0.0</td>\n",
       "      <td>2.0</td>\n",
       "      <td>3</td>\n",
       "      <td>5</td>\n",
       "      <td>6</td>\n",
       "      <td>3</td>\n",
       "      <td>2</td>\n",
       "      <td>3</td>\n",
       "      <td>4</td>\n",
       "      <td>4</td>\n",
       "      <td>2</td>\n",
       "      <td>2</td>\n",
       "      <td>3</td>\n",
       "      <td>2</td>\n",
       "      <td>2</td>\n",
       "      <td>3</td>\n",
       "      <td>5</td>\n",
       "      <td>1</td>\n",
       "      <td>Medienwissenschaft</td>\n",
       "      <td>1</td>\n",
       "      <td>85.0</td>\n",
       "      <td>NaN</td>\n",
       "      <td>NaN</td>\n",
       "      <td>NaN</td>\n",
       "      <td>NaN</td>\n",
       "      <td>NaN</td>\n",
       "      <td>NaN</td>\n",
       "      <td>NaN</td>\n",
       "      <td>NaN</td>\n",
       "      <td>NaN</td>\n",
       "      <td>NaN</td>\n",
       "      <td>NaN</td>\n",
       "      <td>NaN</td>\n",
       "      <td>NaN</td>\n",
       "      <td>NaN</td>\n",
       "      <td>NaN</td>\n",
       "      <td>NaN</td>\n",
       "      <td>NaN</td>\n",
       "      <td>NaN</td>\n",
       "      <td>NaN</td>\n",
       "      <td>NaN</td>\n",
       "      <td>1</td>\n",
       "      <td>0.0</td>\n",
       "      <td>0.0</td>\n",
       "      <td>0.0</td>\n",
       "      <td>0.032123</td>\n",
       "      <td>0.0902441</td>\n",
       "      <td>0.4534238</td>\n",
       "      <td>0.2855380</td>\n",
       "      <td>0.1101613</td>\n",
       "      <td>0.0253812</td>\n",
       "      <td>0.0023795</td>\n",
       "      <td>0.0007050</td>\n",
       "      <td>0.0000441</td>\n",
       "      <td>0.0000000</td>\n",
       "      <td>97.1490262</td>\n",
       "      <td>12.1490262</td>\n",
       "      <td>12.1490262</td>\n",
       "      <td>NaN</td>\n",
       "    </tr>\n",
       "    <tr>\n",
       "      <th>3</th>\n",
       "      <td>belief_announcement</td>\n",
       "      <td>5</td>\n",
       "      <td>4</td>\n",
       "      <td>6</td>\n",
       "      <td>7</td>\n",
       "      <td>7</td>\n",
       "      <td>7</td>\n",
       "      <td>8</td>\n",
       "      <td>8</td>\n",
       "      <td>9</td>\n",
       "      <td>10</td>\n",
       "      <td>5</td>\n",
       "      <td>0</td>\n",
       "      <td>80</td>\n",
       "      <td>3</td>\n",
       "      <td>6</td>\n",
       "      <td>6</td>\n",
       "      <td>25</td>\n",
       "      <td>40</td>\n",
       "      <td>5</td>\n",
       "      <td>5</td>\n",
       "      <td>4</td>\n",
       "      <td>3</td>\n",
       "      <td>3</td>\n",
       "      <td>9</td>\n",
       "      <td>0.0</td>\n",
       "      <td>3.0</td>\n",
       "      <td>3.0</td>\n",
       "      <td>0.0</td>\n",
       "      <td>150</td>\n",
       "      <td>3.0</td>\n",
       "      <td>0.0</td>\n",
       "      <td>1</td>\n",
       "      <td>2</td>\n",
       "      <td>7</td>\n",
       "      <td>3</td>\n",
       "      <td>2</td>\n",
       "      <td>2</td>\n",
       "      <td>6</td>\n",
       "      <td>4</td>\n",
       "      <td>2</td>\n",
       "      <td>4</td>\n",
       "      <td>1</td>\n",
       "      <td>4</td>\n",
       "      <td>1</td>\n",
       "      <td>2</td>\n",
       "      <td>3</td>\n",
       "      <td>0</td>\n",
       "      <td>Lebensmittelchemie</td>\n",
       "      <td>1</td>\n",
       "      <td>45.0</td>\n",
       "      <td>NaN</td>\n",
       "      <td>NaN</td>\n",
       "      <td>NaN</td>\n",
       "      <td>NaN</td>\n",
       "      <td>NaN</td>\n",
       "      <td>NaN</td>\n",
       "      <td>NaN</td>\n",
       "      <td>NaN</td>\n",
       "      <td>NaN</td>\n",
       "      <td>NaN</td>\n",
       "      <td>NaN</td>\n",
       "      <td>NaN</td>\n",
       "      <td>NaN</td>\n",
       "      <td>NaN</td>\n",
       "      <td>NaN</td>\n",
       "      <td>NaN</td>\n",
       "      <td>NaN</td>\n",
       "      <td>NaN</td>\n",
       "      <td>NaN</td>\n",
       "      <td>NaN</td>\n",
       "      <td>1</td>\n",
       "      <td>1.0</td>\n",
       "      <td>-35.0</td>\n",
       "      <td>35.0</td>\n",
       "      <td>0.000000</td>\n",
       "      <td>0.0005947</td>\n",
       "      <td>0.0047577</td>\n",
       "      <td>0.0669045</td>\n",
       "      <td>0.2537417</td>\n",
       "      <td>0.0619487</td>\n",
       "      <td>0.1070473</td>\n",
       "      <td>0.1359897</td>\n",
       "      <td>0.1522450</td>\n",
       "      <td>0.2167707</td>\n",
       "      <td>32.5998612</td>\n",
       "      <td>-47.4001388</td>\n",
       "      <td>47.4001388</td>\n",
       "      <td>NaN</td>\n",
       "    </tr>\n",
       "    <tr>\n",
       "      <th>4</th>\n",
       "      <td>belief_announcement</td>\n",
       "      <td>5</td>\n",
       "      <td>1</td>\n",
       "      <td>3</td>\n",
       "      <td>4</td>\n",
       "      <td>4</td>\n",
       "      <td>5</td>\n",
       "      <td>5</td>\n",
       "      <td>5</td>\n",
       "      <td>6</td>\n",
       "      <td>8</td>\n",
       "      <td>3</td>\n",
       "      <td>0</td>\n",
       "      <td>25</td>\n",
       "      <td>0</td>\n",
       "      <td>0</td>\n",
       "      <td>0</td>\n",
       "      <td>0</td>\n",
       "      <td>25</td>\n",
       "      <td>5</td>\n",
       "      <td>5</td>\n",
       "      <td>20</td>\n",
       "      <td>20</td>\n",
       "      <td>25</td>\n",
       "      <td>4</td>\n",
       "      <td>3.0</td>\n",
       "      <td>0.0</td>\n",
       "      <td>0.0</td>\n",
       "      <td>3.0</td>\n",
       "      <td>100</td>\n",
       "      <td>0.0</td>\n",
       "      <td>3.0</td>\n",
       "      <td>4</td>\n",
       "      <td>4</td>\n",
       "      <td>7</td>\n",
       "      <td>3</td>\n",
       "      <td>2</td>\n",
       "      <td>1</td>\n",
       "      <td>7</td>\n",
       "      <td>2</td>\n",
       "      <td>6</td>\n",
       "      <td>3</td>\n",
       "      <td>2</td>\n",
       "      <td>4</td>\n",
       "      <td>1</td>\n",
       "      <td>1</td>\n",
       "      <td>4</td>\n",
       "      <td>1</td>\n",
       "      <td>Geographie</td>\n",
       "      <td>1</td>\n",
       "      <td>70.0</td>\n",
       "      <td>NaN</td>\n",
       "      <td>NaN</td>\n",
       "      <td>NaN</td>\n",
       "      <td>NaN</td>\n",
       "      <td>NaN</td>\n",
       "      <td>NaN</td>\n",
       "      <td>NaN</td>\n",
       "      <td>NaN</td>\n",
       "      <td>NaN</td>\n",
       "      <td>NaN</td>\n",
       "      <td>NaN</td>\n",
       "      <td>NaN</td>\n",
       "      <td>NaN</td>\n",
       "      <td>NaN</td>\n",
       "      <td>NaN</td>\n",
       "      <td>NaN</td>\n",
       "      <td>NaN</td>\n",
       "      <td>NaN</td>\n",
       "      <td>NaN</td>\n",
       "      <td>NaN</td>\n",
       "      <td>1</td>\n",
       "      <td>0.0</td>\n",
       "      <td>45.0</td>\n",
       "      <td>45.0</td>\n",
       "      <td>0.000000</td>\n",
       "      <td>0.0000000</td>\n",
       "      <td>0.0000000</td>\n",
       "      <td>0.0000000</td>\n",
       "      <td>0.8311170</td>\n",
       "      <td>0.0851064</td>\n",
       "      <td>0.0359043</td>\n",
       "      <td>0.0425532</td>\n",
       "      <td>0.0053191</td>\n",
       "      <td>0.0000000</td>\n",
       "      <td>83.1117021</td>\n",
       "      <td>58.1117021</td>\n",
       "      <td>58.1117021</td>\n",
       "      <td>NaN</td>\n",
       "    </tr>\n",
       "  </tbody>\n",
       "</table>\n",
       "</div>"
      ],
      "text/plain": [
       "             treatment  rscore  performance1  performance2  performance3  \\\n",
       "0  belief_announcement       4             1             3             4   \n",
       "1  belief_announcement       6             3             4             5   \n",
       "2  belief_announcement       8             4             6             7   \n",
       "3  belief_announcement       5             4             6             7   \n",
       "4  belief_announcement       5             1             3             4   \n",
       "\n",
       "   performance4  performance5  performance6  performance7  performance8  \\\n",
       "0             4             5             5             5             6   \n",
       "1             5             6             6             7             8   \n",
       "2             7             7             8             8             9   \n",
       "3             7             7             8             8             9   \n",
       "4             4             5             5             5             6   \n",
       "\n",
       "   performance9  wspt  donation  prior_median  prior_1  prior_2  prior_3  \\\n",
       "0             8     6         1            53        2        4        9   \n",
       "1             9     7         5            70       10       10       10   \n",
       "2            10     5         3            85        1        4       30   \n",
       "3            10     5         0            80        3        6        6   \n",
       "4             8     3         0            25        0        0        0   \n",
       "\n",
       "   prior_4  prior_5  prior_6  prior_7  prior_8  prior_9  prior_10  rank  \\\n",
       "0       14       24       16       13        9        7         2     7   \n",
       "1       20       20       10        5        5        5         5     4   \n",
       "2       30       20        9        2        2        1         1     3   \n",
       "3       25       40        5        5        4        3         3     9   \n",
       "4        0       25        5        5       20       20        25     4   \n",
       "\n",
       "   pos_comparisons  neg_comparisons  repeat_neg_comparisons  \\\n",
       "0              2.0              1.0                     1.0   \n",
       "1              2.0              1.0                     1.0   \n",
       "2              3.0              0.0                     0.0   \n",
       "3              0.0              3.0                     3.0   \n",
       "4              3.0              0.0                     0.0   \n",
       "\n",
       "   repeat_pos_comparisons  risk_investment  recall_neg_comparisons  \\\n",
       "0                     2.0               80                     1.0   \n",
       "1                     2.0              150                     1.0   \n",
       "2                     2.0               80                     0.0   \n",
       "3                     0.0              150                     3.0   \n",
       "4                     3.0              100                     0.0   \n",
       "\n",
       "   recall_pos_comparisons  big5_1  big5_2  big5_3  big5_4  big5_5  big5_6  \\\n",
       "0                     2.0       1       2       4       3       2       4   \n",
       "1                     2.0       2       2       6       2       5       2   \n",
       "2                     2.0       3       5       6       3       2       3   \n",
       "3                     0.0       1       2       7       3       2       2   \n",
       "4                     3.0       4       4       7       3       2       1   \n",
       "\n",
       "   big5_7  big5_8  big5_9  big5_10  big5_11  big5_12  big5_13  big5_14  \\\n",
       "0       3       4       2        5        3        4        3        4   \n",
       "1       7       2       2        7        3        6        2        2   \n",
       "2       4       4       2        2        3        2        2        3   \n",
       "3       6       4       2        4        1        4        1        2   \n",
       "4       7       2       6        3        2        4        1        1   \n",
       "\n",
       "   big5_15  gender      field_of_study  student  posterior_median  \\\n",
       "0        4       0          Geographie        1              68.0   \n",
       "1        3       1         psychologie        1              60.0   \n",
       "2        5       1  Medienwissenschaft        1              85.0   \n",
       "3        3       0  Lebensmittelchemie        1              45.0   \n",
       "4        4       1          Geographie        1              70.0   \n",
       "\n",
       "   recallfeedback  qualtrics  recall_part_IQtest  recall_part_feedback  \\\n",
       "0             NaN        NaN                 NaN                   NaN   \n",
       "1             NaN        NaN                 NaN                   NaN   \n",
       "2             NaN        NaN                 NaN                   NaN   \n",
       "3             NaN        NaN                 NaN                   NaN   \n",
       "4             NaN        NaN                 NaN                   NaN   \n",
       "\n",
       "   recall_parts_nonIQ  pricelist1  pricelist2  pricelist3  pricelist4  \\\n",
       "0                 NaN         NaN         NaN         NaN         NaN   \n",
       "1                 NaN         NaN         NaN         NaN         NaN   \n",
       "2                 NaN         NaN         NaN         NaN         NaN   \n",
       "3                 NaN         NaN         NaN         NaN         NaN   \n",
       "4                 NaN         NaN         NaN         NaN         NaN   \n",
       "\n",
       "   pricelist5  pricelist6  pricelist7  pricelist8  pricelist9  pricelist10  \\\n",
       "0         NaN         NaN         NaN         NaN         NaN          NaN   \n",
       "1         NaN         NaN         NaN         NaN         NaN          NaN   \n",
       "2         NaN         NaN         NaN         NaN         NaN          NaN   \n",
       "3         NaN         NaN         NaN         NaN         NaN          NaN   \n",
       "4         NaN         NaN         NaN         NaN         NaN          NaN   \n",
       "\n",
       "   pricelist11  pricelist12  pricelist13  pricelist14  pricelist15  \\\n",
       "0          NaN          NaN          NaN          NaN          NaN   \n",
       "1          NaN          NaN          NaN          NaN          NaN   \n",
       "2          NaN          NaN          NaN          NaN          NaN   \n",
       "3          NaN          NaN          NaN          NaN          NaN   \n",
       "4          NaN          NaN          NaN          NaN          NaN   \n",
       "\n",
       "   treatgroup  dummynews_goodbad  beliefadjustment  \\\n",
       "0           1                0.0              15.0   \n",
       "1           1                0.0             -10.0   \n",
       "2           1                0.0               0.0   \n",
       "3           1                1.0             -35.0   \n",
       "4           1                0.0              45.0   \n",
       "\n",
       "   beliefadjustment_normalized    post_1     post_2     post_3     post_4  \\\n",
       "0                         15.0  0.000000  0.0348774  0.1201635  0.2059946   \n",
       "1                        -10.0  0.000000  0.0910384  0.1394026  0.3072546   \n",
       "2                          0.0  0.032123  0.0902441  0.4534238  0.2855380   \n",
       "3                         35.0  0.000000  0.0005947  0.0047577  0.0669045   \n",
       "4                         45.0  0.000000  0.0000000  0.0000000  0.0000000   \n",
       "\n",
       "      post_5     post_6     post_7     post_8     post_9    post_10  \\\n",
       "0  0.3269755  0.1743869  0.0956403  0.0343324  0.0076294  0.0000000   \n",
       "1  0.2844950  0.1137980  0.0384068  0.0199147  0.0056899  0.0000000   \n",
       "2  0.1101613  0.0253812  0.0023795  0.0007050  0.0000441  0.0000000   \n",
       "3  0.2537417  0.0619487  0.1070473  0.1359897  0.1522450  0.2167707   \n",
       "4  0.8311170  0.0851064  0.0359043  0.0425532  0.0053191  0.0000000   \n",
       "\n",
       "   posterior_median_bayes  beliefadjustment_bayes  \\\n",
       "0              68.8010899              15.8010899   \n",
       "1              82.2190612              12.2190612   \n",
       "2              97.1490262              12.1490262   \n",
       "3              32.5998612             -47.4001388   \n",
       "4              83.1117021              58.1117021   \n",
       "\n",
       "   beliefadjustment_bayes_norm  dummytreat_direct1month  \n",
       "0                   15.8010899                      NaN  \n",
       "1                   12.2190612                      NaN  \n",
       "2                   12.1490262                      NaN  \n",
       "3                   47.4001388                      NaN  \n",
       "4                   58.1117021                      NaN  "
      ]
     },
     "execution_count": 19,
     "metadata": {},
     "output_type": "execute_result"
    }
   ],
   "source": [
    "#Viewing data\n",
    "df.head()"
   ]
  },
  {
   "cell_type": "code",
   "execution_count": 8,
   "metadata": {},
   "outputs": [],
   "source": [
    "#Renaming treatgroup for easier coding\n",
    "tg_conditions = [\n",
    "    (df['treatment'] == 'belief_announcement'),\n",
    "    (df['treatment'] == 'confidence_1monthlater'),\n",
    "    (df['treatment'] == 'confidence_direct_15minuteslater'),\n",
    "    (df['treatment'] == 'confidence_direct_immediate'),\n",
    "    (df['treatment'] == 'memory'),\n",
    "    (df['treatment'] == 'memory_high'),\n",
    "    (df['treatment'] == 'nofeedback'),\n",
    "    (df['treatment'] == 'tournament_announcement'),\n",
    "]\n",
    "tg_values = [1, 2, 3, 4, 5, 6, 7, 8]\n",
    "df['treatgroup'] = np.select(tg_conditions, tg_values)"
   ]
  },
  {
   "cell_type": "markdown",
   "metadata": {},
   "source": [
    "Throughout this study feedback groups will be addressed using the dummy variable `dummynews_goodbad`. As is mentioned above, if a subject received more than 2 positive comparisons they are considered to be in the positive feedback group; if else in the negative feedback group."
   ]
  },
  {
   "cell_type": "code",
   "execution_count": 9,
   "metadata": {},
   "outputs": [],
   "source": [
    "#Creating dummy variable for good/bad news (if good = 0, if bad = 1)\n",
    "df[\"dummynews_goodbad\"] = np.nan\n",
    "df.loc[(df['pos_comparisons'] == 2) | (df['pos_comparisons'] == 3), 'dummynews_goodbad'] = 0\n",
    "df.loc[(df['pos_comparisons'] == 0) | (df['pos_comparisons'] == 1), 'dummynews_goodbad'] = 1"
   ]
  },
  {
   "cell_type": "code",
   "execution_count": 10,
   "metadata": {},
   "outputs": [],
   "source": [
    "#Belief adjustment\n",
    "df[\"beliefadjustment\"] = df[\"posterior_median\"] - df[\"prior_median\"]\n",
    "#Normalized belief adjustment\n",
    "df[\"beliefadjustment_normalized\"] = np.nan\n",
    "df.loc[df['dummynews_goodbad'] == 0, 'beliefadjustment_normalized'] = df['beliefadjustment']\n",
    "df.loc[df['dummynews_goodbad'] == 1, 'beliefadjustment_normalized'] = df['beliefadjustment']*-1"
   ]
  },
  {
   "cell_type": "markdown",
   "metadata": {},
   "source": [
    "### 6.1.2 Belief Adjustment Distribution"
   ]
  },
  {
   "cell_type": "code",
   "execution_count": 20,
   "metadata": {},
   "outputs": [
    {
     "data": {
      "text/plain": [
       "<function auxiliary.auxiliary_plots.Main_Figure1(df)>"
      ]
     },
     "execution_count": 20,
     "metadata": {},
     "output_type": "execute_result"
    },
    {
     "data": {
      "image/png": "[encoded data removed]",
      "text/plain": [
       "<Figure size 864x864 with 4 Axes>"
      ]
     },
     "metadata": {
      "needs_background": "light"
     },
     "output_type": "display_data"
    }
   ],
   "source": [
    "Main_Figure1(df)"
   ]
  },
  {
   "cell_type": "markdown",
   "metadata": {},
   "source": [
    "Figure 1 is an easy way to view the belief adjustments of the subjects, even though, they aren't enough for causal inference. As it is observable from Panel A. subjects adjusted their beliefs in line with the feedback they have received. For instance, in the positive feedback group, we see the accumulation of observations between 0 and +50 while an opposite pattern is observable for the negative feedback group.\n",
    "\n",
    "In Panel B. we see that for the individuals who have received positive feedback, the pattern observe is not so much different from the pattern in Panel A. However, the graph significantly changes for the negative feedback when subjects elicit their beliefs 1 month after the feedback."
   ]
  },
  {
   "cell_type": "markdown",
   "metadata": {},
   "source": [
    "### 6.1.3 Belief Adjustment Distribution  & Test performances"
   ]
  },
  {
   "cell_type": "markdown",
   "metadata": {},
   "source": [
    "**Calculating Bayesian Predictions**"
   ]
  },
  {
   "cell_type": "code",
   "execution_count": 22,
   "metadata": {},
   "outputs": [],
   "source": [
    "#Bayesian predictions\n",
    "get_Bayesian_predictions(df)"
   ]
  },
  {
   "cell_type": "code",
   "execution_count": 23,
   "metadata": {},
   "outputs": [],
   "source": [
    "#Calculating Bayesian Posterior Median Beliefs\n",
    "df[\"posterior_median_bayes\"] = (df[\"post_1\"] + df[\"post_2\"] + df[\"post_3\"] + df[\"post_4\"] + df[\"post_5\"])*100"
   ]
  },
  {
   "cell_type": "code",
   "execution_count": 24,
   "metadata": {},
   "outputs": [],
   "source": [
    "##Bayesian predictions for belief adjustment\n",
    "df[\"beliefadjustment_bayes\"] = df[\"posterior_median_bayes\"] - df[\"prior_median\"]\n",
    "\n",
    "#Normalization of Bayesian predictions\n",
    "df[\"beliefadjustment_bayes_norm\"] = np.nan\n",
    "df.loc[df['dummynews_goodbad'] == 0, 'beliefadjustment_bayes_norm'] = df['beliefadjustment_bayes']\n",
    "df.loc[df['dummynews_goodbad'] == 1, 'beliefadjustment_bayes_norm'] = df['beliefadjustment_bayes']*-1"
   ]
  },
  {
   "cell_type": "markdown",
   "metadata": {},
   "source": [
    "There are two sub treatment groups in the immediate treatment: confidence_direct_15minuteslater' and 'confidence_direct_immediate'. Zimmermann(2020) made this differentiation for a robustness check to see whether there would be a difference between eliciting beliefs immediately after feedback or 15 minutes later. However, the main results derived from the comparison between 1-month treatment and pooled treatment which combines 15 minutes later and immediate treatment. So, a dummy is created for further analysis; with 1 indicating treatment 1 month and 0 indicating pooled direct treatment."
   ]
  },
  {
   "cell_type": "code",
   "execution_count": 25,
   "metadata": {},
   "outputs": [],
   "source": [
    "#Generate dummy for direct treatment and 1 month treatment\n",
    "df[\"dummytreat_direct1month\"] = np.nan\n",
    "df.loc[(df['treatgroup'] == 3) | (df['treatgroup'] == 4), 'dummytreat_direct1month'] = 0\n",
    "df.loc[df['treatgroup'] == 2, 'dummytreat_direct1month'] = 1"
   ]
  },
  {
   "cell_type": "code",
   "execution_count": 26,
   "metadata": {},
   "outputs": [],
   "source": [
    "#Grouping IQ test scores\n",
    "df[\"test_1\"] = np.nan\n",
    "df.loc[(df['rscore'] == 0) | (df['rscore'] == 1) | (df['rscore'] == 2) | (df['rscore'] == 3) | (df['rscore'] == 4), 'test_1'] = 1\n",
    "df.loc[(df['rscore'] == 5), 'test_1'] = 2\n",
    "df.loc[(df['rscore'] == 6), 'test_1'] = 3\n",
    "df.loc[(df['rscore'] == 7) | (df['rscore'] == 8) | (df['rscore'] == 9) | (df['rscore'] == 10), 'test_1'] = 4"
   ]
  },
  {
   "cell_type": "code",
   "execution_count": 27,
   "metadata": {},
   "outputs": [],
   "source": [
    "#Average prior belief\n",
    "df['prior_av'] = df.groupby(['test_1', 'dummytreat_direct1month'])[\"prior_median\"].transform('mean')"
   ]
  },
  {
   "cell_type": "code",
   "execution_count": 28,
   "metadata": {},
   "outputs": [],
   "source": [
    "#Average posterior belief if feedback is positive\n",
    "df['post_av_pos'] = df[df[\"dummynews_goodbad\"] == 0].groupby(['test_1', 'dummytreat_direct1month'])[\"posterior_median\"].transform('mean')"
   ]
  },
  {
   "cell_type": "code",
   "execution_count": 29,
   "metadata": {},
   "outputs": [],
   "source": [
    "#Average posterior belief if feedback is negative\n",
    "df['post_av_neg'] = df[df[\"dummynews_goodbad\"] == 1].groupby(['test_1', 'dummytreat_direct1month'])[\"posterior_median\"].transform('mean')"
   ]
  },
  {
   "cell_type": "code",
   "execution_count": 30,
   "metadata": {},
   "outputs": [
    {
     "data": {
      "text/plain": [
       "<function auxiliary.auxiliary_plots.Main_Figure2(df)>"
      ]
     },
     "execution_count": 30,
     "metadata": {},
     "output_type": "execute_result"
    },
    {
     "data": {
      "image/png": "[encoded data removed]",
      "text/plain": [
       "<Figure size 576x576 with 2 Axes>"
      ]
     },
     "metadata": {
      "needs_background": "light"
     },
     "output_type": "display_data"
    }
   ],
   "source": [
    "Main_Figure2(df)"
   ]
  },
  {
   "cell_type": "markdown",
   "metadata": {},
   "source": [
    "Figure 2 plots the individuals' prior and posterior belief of being in the upper half of their group for differents levels in test performances. Test performances are grouped as 1, 2, 3 and 4; with 1 being the lowest score group. Also, posteriors are plotted with two different lines.\n",
    "\n",
    "It is easy to see that in Panel A. ConfidenceDirect, subject's posterior beliefs visibly differ from their prior beliefs in line with the feedback they received. However, in Panel B, the posterior beliefs of subjects that received negative feedback are visibly closer to the prior beliefs.\n",
    "\n",
    "Compared to the first graph, here causal inference is made possible by grouping individuals according to their test scores.\n",
    "\n",
    "These figures are also a great way to observe ex-ante overconfident-average priors lie consistently above 50 percent- which can be theoretically explained by Bayesian updating (see. Benoît and Dubra, 2011) and also visible in the figures from study of Zimmermann (2020)."
   ]
  },
  {
   "cell_type": "markdown",
   "metadata": {},
   "source": [
    "### 6.1.4. Regression Outputs"
   ]
  },
  {
   "cell_type": "markdown",
   "metadata": {},
   "source": [
    "In the study, Zimmermann (2020) perform 8 OLS estimations(see in Table 1) with type HC1 heteroscedasticity robust covariance. :<br>\n",
    "(1) Regressing $y_i$ (normalized belief adjustment) on $T_i$ (treatment type) in case of positive feedback<br>\n",
    "(2) Same as (1) but controling for $X_i$ (rank and normalized bayesian belief adjustment)<br>\n",
    "(3) Regressing $y_i$ (normalized belief adjustment) on $T_i$ (treatment type) in case of negative feedback<br>\n",
    "(4) Same as (3) but controling for $X_i$ (rank and normalized bayesian belief adjustment)<br>\n",
    "(5) Regressing $y_i$ (normalized belief adjustment) on $T_i$ (treatment type), $feedback_i$ (feedback type) and $I_i$ (interaction term indicating whether individual is in the interest group or not)<br>\n",
    "(6) Same as (5) but controling for $X_i$ (rank and normalized bayesian belief adjustment)<br>\n",
    "(7) Same as (5) but including rank fixed effects with their interaction with treatment<br>\n",
    "(8) Same as (7) but controling for $X_i$ (normalized bayesian belief adjustment)<br>"
   ]
  },
  {
   "cell_type": "code",
   "execution_count": 32,
   "metadata": {},
   "outputs": [],
   "source": [
    "df_good = pd.DataFrame({\"beliefadjustment_normalized\": df[df[\"dummynews_goodbad\"] == 0]['beliefadjustment_normalized'], \"dummytreat_direct1month\": df[df[\"dummynews_goodbad\"] == 0]['dummytreat_direct1month'], \"rank\": df[df[\"dummynews_goodbad\"] == 0]['rank'], \"beliefadjustment_bayes_norm\": df[df[\"dummynews_goodbad\"] == 0]['beliefadjustment_bayes_norm']})\n",
    "#(1)\n",
    "model_ols = smf.ols(formula=\"beliefadjustment_normalized ~ dummytreat_direct1month\", data=df_good)\n",
    "reg_1 = model_ols.fit(cov_type='HC1')\n",
    "#(2)\n",
    "model_ols = smf.ols(formula=\"beliefadjustment_normalized ~ dummytreat_direct1month + rank + beliefadjustment_bayes_norm\", data=df_good)\n",
    "reg_2 = model_ols.fit(cov_type='HC1')"
   ]
  },
  {
   "cell_type": "code",
   "execution_count": 33,
   "metadata": {},
   "outputs": [],
   "source": [
    "df_bad = pd.DataFrame({\"beliefadjustment_normalized\": df[df[\"dummynews_goodbad\"] == 1]['beliefadjustment_normalized'], \"dummytreat_direct1month\": df[df[\"dummynews_goodbad\"] == 1]['dummytreat_direct1month'], \"rank\": df[df[\"dummynews_goodbad\"] == 1]['rank'], \"beliefadjustment_bayes_norm\": df[df[\"dummynews_goodbad\"] == 1]['beliefadjustment_bayes_norm']})\n",
    "#(3)\n",
    "model_ols = smf.ols(formula=\"beliefadjustment_normalized ~ dummytreat_direct1month\", data=df_bad)\n",
    "reg_3 = model_ols.fit(cov_type='HC1')\n",
    "#(4)\n",
    "model_ols = smf.ols(formula=\"beliefadjustment_normalized ~ dummytreat_direct1month + rank + beliefadjustment_bayes_norm\", data=df_bad)\n",
    "reg_4 = model_ols.fit(cov_type='HC1')"
   ]
  },
  {
   "cell_type": "markdown",
   "metadata": {},
   "source": [
    "Next regressions are DID models, therefore interaction term for our interest group is added."
   ]
  },
  {
   "cell_type": "code",
   "execution_count": 35,
   "metadata": {},
   "outputs": [],
   "source": [
    "#Generating interaction term\n",
    "df[\"interact_direct1month\"] = df[\"dummytreat_direct1month\"]*df[\"dummynews_goodbad\"]"
   ]
  },
  {
   "cell_type": "code",
   "execution_count": 36,
   "metadata": {},
   "outputs": [],
   "source": [
    "#(5)\n",
    "model_ols = smf.ols(formula= \"beliefadjustment_normalized ~ dummytreat_direct1month + dummynews_goodbad + interact_direct1month\", data=df)\n",
    "reg_5 = model_ols.fit(cov_type='HC1')\n",
    "#(6)\n",
    "model_ols = smf.ols(formula= \"beliefadjustment_normalized ~ dummytreat_direct1month + dummynews_goodbad + rank + interact_direct1month + beliefadjustment_bayes_norm\", data=df)\n",
    "reg_6 = model_ols.fit(cov_type='HC1')"
   ]
  },
  {
   "cell_type": "markdown",
   "metadata": {},
   "source": [
    "Next spesifications are with rank fixed effects to include their interaction with treatment. So rank dummies are generated and added to the regression as well as their interaction term: `rankdummy`$_i$ *`dummytreat_direct1month`."
   ]
  },
  {
   "cell_type": "code",
   "execution_count": 37,
   "metadata": {},
   "outputs": [],
   "source": [
    "#Rank dummies\n",
    "get_rank_dummies(df)"
   ]
  },
  {
   "cell_type": "code",
   "execution_count": 38,
   "metadata": {},
   "outputs": [],
   "source": [
    "#Intereaction term: Rank dummy*Treatment dummy\n",
    "get_rank_interation_term(df)"
   ]
  },
  {
   "cell_type": "code",
   "execution_count": 39,
   "metadata": {},
   "outputs": [],
   "source": [
    "#(7)\n",
    "model_ols = smf.ols(formula= \"beliefadjustment_normalized ~ dummytreat_direct1month + dummynews_goodbad + interact_direct1month + rankdummy1 + rankdummy2 + rankdummy3 + rankdummy4 + rankdummy5 + rankdummy6 + rankdummy7 + rankdummy8 + rankdummy9 + rankdummy1_interact + rankdummy2_interact + rankdummy3_interact + rankdummy4_interact + rankdummy5_interact + rankdummy6_interact + rankdummy7_interact + rankdummy8_interact + rankdummy9_interact\", data=df)\n",
    "reg_7 = model_ols.fit(cov_type='HC1')\n",
    "#(8)\n",
    "model_ols = smf.ols(formula= \"beliefadjustment_normalized ~ dummytreat_direct1month + dummynews_goodbad + interact_direct1month + beliefadjustment_bayes_norm + rankdummy1 + rankdummy2 + rankdummy3 + rankdummy4 + rankdummy5 + rankdummy6 + rankdummy7 + rankdummy8 + rankdummy9 + rankdummy1_interact + rankdummy2_interact + rankdummy3_interact + rankdummy4_interact + rankdummy5_interact + rankdummy6_interact + rankdummy7_interact + rankdummy8_interact + rankdummy9_interact\", data=df)\n",
    "reg_8 = model_ols.fit(cov_type='HC1')"
   ]
  },
  {
   "cell_type": "code",
   "execution_count": 40,
   "metadata": {},
   "outputs": [
    {
     "data": {
      "text/html": [
       "Table 1 - Belief Adjustment: Direct versus One Month Later<br><table style=\"text-align:center\"><tr><td colspan=\"9\" style=\"border-bottom: 1px solid black\"></td></tr><tr><td style=\"text-align:left\"></td><td colspan=\"8\"><em>Normalized Belief Adjustment - beliefadjustment_normalized</em></td></tr><tr><td style=\"text-align:left\"></td><tr><td></td><td colspan=\"2\">Positive Information</td><td colspan=\"2\">Negative Information</td><td colspan=\"2\">Difference-in-difference</td><td colspan=\"2\">Difference-in-difference with rank fixed effects</td></tr><tr><td style=\"text-align:left\"></td><td>(1)</td><td>(2)</td><td>(3)</td><td>(4)</td><td>(5)</td><td>(6)</td><td>(7)</td><td>(8)</td></tr><tr><td colspan=\"9\" style=\"border-bottom: 1px solid black\"></td></tr><tr><td style=\"text-align:left\">Intercept</td><td>10.812<sup>***</sup></td><td>-6.705<sup>**</sup></td><td>14.247<sup>***</sup></td><td>15.219<sup>***</sup></td><td>10.812<sup>***</sup></td><td>4.588<sup>**</sup></td><td>9.237<sup>**</sup></td><td>-2.317<sup></sup></td></tr><tr><td style=\"text-align:left\"></td><td>(1.604)</td><td>(2.762)</td><td>(1.687)</td><td>(5.600)</td><td>(1.604)</td><td>(2.217)</td><td>(4.421)</td><td>(4.209)</td></tr><tr><td style=\"text-align:left\">beliefadjustment_bayes_norm</td><td></td><td>0.674<sup>***</sup></td><td></td><td>0.252<sup>***</sup></td><td></td><td>0.391<sup>***</sup></td><td></td><td>0.431<sup>***</sup></td></tr><tr><td style=\"text-align:left\"></td><td></td><td>(0.071)</td><td></td><td>(0.081)</td><td></td><td>(0.055)</td><td></td><td>(0.061)</td></tr><tr><td style=\"text-align:left\">dummynews_goodbad</td><td></td><td></td><td></td><td></td><td>3.436<sup></sup></td><td>2.403<sup></sup></td><td>5.319<sup></sup></td><td>3.558<sup></sup></td></tr><tr><td style=\"text-align:left\"></td><td></td><td></td><td></td><td></td><td>(2.328)</td><td>(2.847)</td><td>(3.298)</td><td>(2.932)</td></tr><tr><td style=\"text-align:left\">dummytreat_direct1month</td><td>0.301<sup></sup></td><td>1.504<sup></sup></td><td>-10.411<sup>***</sup></td><td>-11.006<sup>***</sup></td><td>0.301<sup></sup></td><td>0.392<sup></sup></td><td>-0.245<sup></sup></td><td>-1.835<sup></sup></td></tr><tr><td style=\"text-align:left\"></td><td>(3.564)</td><td>(3.062)</td><td>(2.540)</td><td>(2.540)</td><td>(3.564)</td><td>(3.238)</td><td>(8.909)</td><td>(8.193)</td></tr><tr><td style=\"text-align:left\">interact_direct1month</td><td></td><td></td><td></td><td></td><td>-10.712<sup>**</sup></td><td>-11.379<sup>***</sup></td><td>-18.060<sup>**</sup></td><td>-21.036<sup>***</sup></td></tr><tr><td style=\"text-align:left\"></td><td></td><td></td><td></td><td></td><td>(4.377)</td><td>(4.144)</td><td>(7.698)</td><td>(7.628)</td></tr><tr><td style=\"text-align:left\">rank</td><td></td><td>1.416<sup>**</sup></td><td></td><td>-0.910<sup></sup></td><td></td><td>-0.256<sup></sup></td><td></td><td></td></tr><tr><td style=\"text-align:left\"></td><td></td><td>(0.645)</td><td></td><td>(0.745)</td><td></td><td>(0.484)</td><td></td><td></td></tr><tr><td style=\"text-align:left\">rankdummy1</td><td></td><td></td><td></td><td></td><td></td><td></td><td>8.888<sup></sup></td><td>7.144<sup></sup></td></tr><tr><td style=\"text-align:left\"></td><td></td><td></td><td></td><td></td><td></td><td></td><td>(7.624)</td><td>(5.666)</td></tr><tr><td style=\"text-align:left\">rankdummy1_interact</td><td></td><td></td><td></td><td></td><td></td><td></td><td>-8.505<sup></sup></td><td>-0.388<sup></sup></td></tr><tr><td style=\"text-align:left\"></td><td></td><td></td><td></td><td></td><td></td><td></td><td>(11.556)</td><td>(9.580)</td></tr><tr><td style=\"text-align:left\">rankdummy2</td><td></td><td></td><td></td><td></td><td></td><td></td><td>3.526<sup></sup></td><td>6.168<sup></sup></td></tr><tr><td style=\"text-align:left\"></td><td></td><td></td><td></td><td></td><td></td><td></td><td>(5.247)</td><td>(4.381)</td></tr><tr><td style=\"text-align:left\">rankdummy2_interact</td><td></td><td></td><td></td><td></td><td></td><td></td><td>-2.651<sup></sup></td><td>-4.270<sup></sup></td></tr><tr><td style=\"text-align:left\"></td><td></td><td></td><td></td><td></td><td></td><td></td><td>(11.072)</td><td>(9.672)</td></tr><tr><td style=\"text-align:left\">rankdummy3</td><td></td><td></td><td></td><td></td><td></td><td></td><td>2.338<sup></sup></td><td>6.993<sup></sup></td></tr><tr><td style=\"text-align:left\"></td><td></td><td></td><td></td><td></td><td></td><td></td><td>(7.110)</td><td>(5.746)</td></tr><tr><td style=\"text-align:left\">rankdummy3_interact</td><td></td><td></td><td></td><td></td><td></td><td></td><td>-2.517<sup></sup></td><td>-1.159<sup></sup></td></tr><tr><td style=\"text-align:left\"></td><td></td><td></td><td></td><td></td><td></td><td></td><td>(12.656)</td><td>(11.293)</td></tr><tr><td style=\"text-align:left\">rankdummy4</td><td></td><td></td><td></td><td></td><td></td><td></td><td>-0.957<sup></sup></td><td>3.897<sup></sup></td></tr><tr><td style=\"text-align:left\"></td><td></td><td></td><td></td><td></td><td></td><td></td><td>(5.276)</td><td>(4.750)</td></tr><tr><td style=\"text-align:left\">rankdummy4_interact</td><td></td><td></td><td></td><td></td><td></td><td></td><td>7.368<sup></sup></td><td>13.099<sup></sup></td></tr><tr><td style=\"text-align:left\"></td><td></td><td></td><td></td><td></td><td></td><td></td><td>(11.043)</td><td>(11.020)</td></tr><tr><td style=\"text-align:left\">rankdummy5</td><td></td><td></td><td></td><td></td><td></td><td></td><td>-1.133<sup></sup></td><td>3.533<sup></sup></td></tr><tr><td style=\"text-align:left\"></td><td></td><td></td><td></td><td></td><td></td><td></td><td>(5.154)</td><td>(4.688)</td></tr><tr><td style=\"text-align:left\">rankdummy5_interact</td><td></td><td></td><td></td><td></td><td></td><td></td><td>7.657<sup></sup></td><td>12.868<sup>*</sup></td></tr><tr><td style=\"text-align:left\"></td><td></td><td></td><td></td><td></td><td></td><td></td><td>(8.664)</td><td>(7.543)</td></tr><tr><td style=\"text-align:left\">rankdummy6</td><td></td><td></td><td></td><td></td><td></td><td></td><td>-0.485<sup></sup></td><td>3.931<sup></sup></td></tr><tr><td style=\"text-align:left\"></td><td></td><td></td><td></td><td></td><td></td><td></td><td>(4.809)</td><td>(4.433)</td></tr><tr><td style=\"text-align:left\">rankdummy6_interact</td><td></td><td></td><td></td><td></td><td></td><td></td><td>8.646<sup></sup></td><td>12.852<sup></sup></td></tr><tr><td style=\"text-align:left\"></td><td></td><td></td><td></td><td></td><td></td><td></td><td>(8.203)</td><td>(8.086)</td></tr><tr><td style=\"text-align:left\">rankdummy7</td><td></td><td></td><td></td><td></td><td></td><td></td><td>-5.460<sup></sup></td><td>3.522<sup></sup></td></tr><tr><td style=\"text-align:left\"></td><td></td><td></td><td></td><td></td><td></td><td></td><td>(4.343)</td><td>(4.370)</td></tr><tr><td style=\"text-align:left\">rankdummy7_interact</td><td></td><td></td><td></td><td></td><td></td><td></td><td>13.358<sup></sup></td><td>12.417<sup></sup></td></tr><tr><td style=\"text-align:left\"></td><td></td><td></td><td></td><td></td><td></td><td></td><td>(9.126)</td><td>(7.615)</td></tr><tr><td style=\"text-align:left\">rankdummy8</td><td></td><td></td><td></td><td></td><td></td><td></td><td>3.480<sup></sup></td><td>6.731<sup></sup></td></tr><tr><td style=\"text-align:left\"></td><td></td><td></td><td></td><td></td><td></td><td></td><td>(4.976)</td><td>(4.711)</td></tr><tr><td style=\"text-align:left\">rankdummy8_interact</td><td></td><td></td><td></td><td></td><td></td><td></td><td>2.621<sup></sup></td><td>6.698<sup></sup></td></tr><tr><td style=\"text-align:left\"></td><td></td><td></td><td></td><td></td><td></td><td></td><td>(6.694)</td><td>(6.624)</td></tr><tr><td style=\"text-align:left\">rankdummy9</td><td></td><td></td><td></td><td></td><td></td><td></td><td>-0.243<sup></sup></td><td>0.373<sup></sup></td></tr><tr><td style=\"text-align:left\"></td><td></td><td></td><td></td><td></td><td></td><td></td><td>(4.217)</td><td>(3.598)</td></tr><tr><td style=\"text-align:left\">rankdummy9_interact</td><td></td><td></td><td></td><td></td><td></td><td></td><td>12.301<sup>**</sup></td><td>17.087<sup>***</sup></td></tr><tr><td style=\"text-align:left\"></td><td></td><td></td><td></td><td></td><td></td><td></td><td>(6.068)</td><td>(5.082)</td></tr><td colspan=\"9\" style=\"border-bottom: 1px solid black\"></td></tr><tr><td style=\"text-align: left\">Observations</td><td>138</td><td>137</td><td>148</td><td>148</td><td>286</td><td>285</td><td>286</td><td>285</td></tr><tr><td style=\"text-align: left\">R<sup>2</sup></td><td>0.000</td><td>0.308</td><td>0.097</td><td>0.175</td><td>0.044</td><td>0.195</td><td>0.076</td><td>0.234</td></tr><tr><td style=\"text-align: left\">Adjusted R<sup>2</sup></td><td>-0.007</td><td>0.293</td><td>0.090</td><td>0.158</td><td>0.034</td><td>0.181</td><td>0.003</td><td>0.169</td></tr><tr><td style=\"text-align: left\">Residual Std. Error</td><td>18.466 (df=136)</td><td>15.512 (df=133)</td><td>15.495 (df=146)</td><td>14.911 (df=144)</td><td>16.993 (df=282)</td><td>15.668 (df=279)</td><td>17.267 (df=264)</td><td>15.775 (df=262)</td></tr><tr><td style=\"text-align: left\">F Statistic</td><td>0.007<sup></sup> (df=1; 136)</td><td>35.171<sup>***</sup> (df=3; 133)</td><td>16.794<sup>***</sup> (df=1; 146)</td><td>7.343<sup>***</sup> (df=3; 144)</td><td>5.733<sup>***</sup> (df=3; 282)</td><td>12.332<sup>***</sup> (df=5; 279)</td><td>2.002<sup>***</sup> (df=21; 264)</td><td>5.052<sup>***</sup> (df=22; 262)</td></tr><tr><td colspan=\"9\" style=\"border-bottom: 1px solid black\"></td></tr><tr><td style=\"text-align: left\">Note:</td>\n",
       " <td colspan=\"8\" style=\"text-align: right\">\n",
       "  <sup>*</sup>p&lt;0.1;\n",
       "  <sup>**</sup>p&lt;0.05;\n",
       "  <sup>***</sup>p&lt;0.01\n",
       " </td></tr></table>"
      ],
      "text/plain": [
       "<stargazer.stargazer.Stargazer at 0x7fd8fdae69a0>"
      ]
     },
     "execution_count": 40,
     "metadata": {},
     "output_type": "execute_result"
    }
   ],
   "source": [
    "Main_Table_1(df)"
   ]
  },
  {
   "cell_type": "markdown",
   "metadata": {},
   "source": [
    "From the first two regressions, it is clear that belief adjustments of individuals in the direct treatment group and the 1-month treatment group did not differ significantly. In other words, the time has no significant effect on individuals belief adjustment if they have received positive feedback. These findings overlap with the finding in Zimmermann(2020) that state positive feedback has a persistent effect on belief dynamics.\n",
    "\n",
    "The (3) and (4) regression also correlates with Zimmermann(2020) findings since it is clear that the belief adjustments are significantly different between treatment groups at the .01 level, referring to the short-term effect of negative feedback.\n",
    "\n",
    "As it is observable from the column 5 and 6 the interaction term for negative feedback and 1-month treatment group is significant again at the .01 level, in line with the findings from the previous columns. The regression output columns with control variables (rank and Bayesian belief adjustment) also gave the same results in terms of significance levels which strengthens the results. Again these are also in line with the findings of Zimmermann (2020).\n",
    "\n",
    "The last columns are the DID models with rank effects interacted with treatment group and also includes rank dummy controls, as it is observable the interaction term for negative feedback and 1-month treatment group is significant again at the .05 level in (7) and at the .01 level in (8).\n",
    "\n",
    "Overall, all of the results and all of the values are exactly the same as the ones in the study of Zimmermann (2020); confirming the researcher's results."
   ]
  },
  {
   "cell_type": "markdown",
   "metadata": {},
   "source": [
    "---\n",
    "## 6.2. Robustness Checks\n",
    "---\n",
    "Some parts of the Appendix that would be relavant for the extension part of this project is added to the project notebook."
   ]
  },
  {
   "cell_type": "markdown",
   "metadata": {},
   "source": [
    "### 6.2.1 Appendix A.4 - Alternative Definition of Positive/Negative Feedback"
   ]
  },
  {
   "cell_type": "markdown",
   "metadata": {},
   "source": [
    "##### **Heterogenous Feedbacks**"
   ]
  },
  {
   "cell_type": "markdown",
   "metadata": {},
   "source": [
    "Basically, to be considered to receive a positive or negative feedback, a subject should receive all the comparisons as the same kind; positive feedback if he/she received 3 positive comparisons and negative feedback if he/she received 3 negative comparisons."
   ]
  },
  {
   "cell_type": "code",
   "execution_count": 41,
   "metadata": {},
   "outputs": [],
   "source": [
    "#Creating the new feedback dummy accordingly\n",
    "df[\"dummynews_goodbad_h\"] = np.nan\n",
    "df.loc[df['pos_comparisons'] == 3, 'dummynews_goodbad_h'] = 0\n",
    "df.loc[df['pos_comparisons'] == 0, 'dummynews_goodbad_h'] = 1"
   ]
  },
  {
   "cell_type": "code",
   "execution_count": 42,
   "metadata": {},
   "outputs": [
    {
     "data": {
      "text/html": [
       "Appendix Table 1 - Belief Adjustment: Direct versus One Month Later<br><table style=\"text-align:center\"><tr><td colspan=\"7\" style=\"border-bottom: 1px solid black\"></td></tr><tr><td style=\"text-align:left\"></td><td colspan=\"6\"><em>Normalized Belief Adjustment - beliefadjustment_normalized</em></td></tr><tr><td style=\"text-align:left\"></td><tr><td></td><td colspan=\"2\">Positive Information</td><td colspan=\"2\">Negative Information</td><td colspan=\"2\">Difference-in-difference</td></tr><tr><td style=\"text-align:left\"></td><td>(1)</td><td>(2)</td><td>(3)</td><td>(4)</td><td>(5)</td><td>(6)</td></tr><tr><td colspan=\"7\" style=\"border-bottom: 1px solid black\"></td></tr><tr><td style=\"text-align:left\">Intercept</td><td>15.511<sup>***</sup></td><td>-0.580<sup></sup></td><td>20.795<sup>***</sup></td><td>31.651<sup>***</sup></td><td>15.511<sup>***</sup></td><td>8.473<sup>***</sup></td></tr><tr><td style=\"text-align:left\"></td><td>(2.483)</td><td>(2.708)</td><td>(2.324)</td><td>(11.841)</td><td>(2.481)</td><td>(3.203)</td></tr><tr><td style=\"text-align:left\">beliefadjustment_bayes_norm</td><td></td><td>0.640<sup>***</sup></td><td></td><td>0.121<sup></sup></td><td></td><td>0.384<sup>***</sup></td></tr><tr><td style=\"text-align:left\"></td><td></td><td>(0.069)</td><td></td><td>(0.097)</td><td></td><td>(0.070)</td></tr><tr><td style=\"text-align:left\">dummynews_goodbad_h</td><td></td><td></td><td></td><td></td><td>5.284<sup></sup></td><td>7.631<sup></sup></td></tr><tr><td style=\"text-align:left\"></td><td></td><td></td><td></td><td></td><td>(3.401)</td><td>(6.612)</td></tr><tr><td style=\"text-align:left\">dummytreat_direct1month</td><td>0.447<sup></sup></td><td>0.855<sup></sup></td><td>-15.895<sup>***</sup></td><td>-16.923<sup>***</sup></td><td>0.447<sup></sup></td><td>0.137<sup></sup></td></tr><tr><td style=\"text-align:left\"></td><td>(3.919)</td><td>(2.930)</td><td>(2.840)</td><td>(3.113)</td><td>(3.917)</td><td>(3.067)</td></tr><tr><td style=\"text-align:left\">interact_direct1month</td><td></td><td></td><td></td><td></td><td>-16.343<sup>***</sup></td><td>-16.571<sup>***</sup></td></tr><tr><td style=\"text-align:left\"></td><td></td><td></td><td></td><td></td><td>(4.839)</td><td>(4.254)</td></tr><tr><td style=\"text-align:left\">rank</td><td></td><td>-0.288<sup></sup></td><td></td><td>-1.825<sup></sup></td><td></td><td>-1.161<sup></sup></td></tr><tr><td style=\"text-align:left\"></td><td></td><td>(0.872)</td><td></td><td>(1.294)</td><td></td><td>(0.880)</td></tr><td colspan=\"7\" style=\"border-bottom: 1px solid black\"></td></tr><tr><td style=\"text-align: left\">Observations</td><td>69</td><td>69</td><td>74</td><td>74</td><td>143</td><td>143</td></tr><tr><td style=\"text-align: left\">R<sup>2</sup></td><td>0.000</td><td>0.459</td><td>0.265</td><td>0.326</td><td>0.133</td><td>0.319</td></tr><tr><td style=\"text-align: left\">Adjusted R<sup>2</sup></td><td>-0.015</td><td>0.434</td><td>0.255</td><td>0.297</td><td>0.114</td><td>0.294</td></tr><tr><td style=\"text-align: left\">Residual Std. Error</td><td>16.051 (df=67)</td><td>11.986 (df=65)</td><td>13.181 (df=72)</td><td>12.799 (df=70)</td><td>14.635 (df=139)</td><td>13.068 (df=137)</td></tr><tr><td style=\"text-align: left\">F Statistic</td><td>0.013<sup></sup> (df=1; 67)</td><td>30.393<sup>***</sup> (df=3; 65)</td><td>31.317<sup>***</sup> (df=1; 72)</td><td>11.025<sup>***</sup> (df=3; 70)</td><td>12.301<sup>***</sup> (df=3; 139)</td><td>11.697<sup>***</sup> (df=5; 137)</td></tr><tr><td colspan=\"7\" style=\"border-bottom: 1px solid black\"></td></tr><tr><td style=\"text-align: left\">Note:</td>\n",
       " <td colspan=\"6\" style=\"text-align: right\">\n",
       "  <sup>*</sup>p&lt;0.1;\n",
       "  <sup>**</sup>p&lt;0.05;\n",
       "  <sup>***</sup>p&lt;0.01\n",
       " </td></tr></table>"
      ],
      "text/plain": [
       "<stargazer.stargazer.Stargazer at 0x7fd8fce76430>"
      ]
     },
     "execution_count": 42,
     "metadata": {},
     "output_type": "execute_result"
    }
   ],
   "source": [
    "Appendix_Table_1(df)"
   ]
  },
  {
   "cell_type": "markdown",
   "metadata": {},
   "source": [
    "All of the values mimic the values in Table 1 in terms of significance, which means the definition of feedback in the main study was robust. However, for the negative feedback, the coefficients are larger than the previous results which might suggest more negative feedback may affect belief adjustment more negatively.\n"
   ]
  },
  {
   "cell_type": "markdown",
   "metadata": {},
   "source": [
    "---\n",
    "### 6.2.2 Appendix A.6 - Updating in the Short-Run\n",
    "---\n",
    "Looking specifically at short-run updating is not the main aim of Zimmermann(2020), however, the researcher finds it relevant to include the results from data. As it is also mentioned in the study, previous findings on short-term belief updating suggest two phenomena: conservatism (Möbius et al., 2013) and asymmetry (Eil and Rao, 2011)."
   ]
  },
  {
   "cell_type": "markdown",
   "metadata": {},
   "source": [
    "**Conservatism**"
   ]
  },
  {
   "cell_type": "markdown",
   "metadata": {},
   "source": [
    "According to Bayes' rule, people should adjust their belief by about 20 percentage points, on average after a signal. However, Zimmermann (2020) found a way lower normalized belief adjustment value of 11.80 while correlation between Bayesian predictions and belief adjustment is being 0.459."
   ]
  },
  {
   "cell_type": "code",
   "execution_count": 43,
   "metadata": {},
   "outputs": [
    {
     "data": {
      "text/plain": [
       "11.802197802197803"
      ]
     },
     "execution_count": 43,
     "metadata": {},
     "output_type": "execute_result"
    }
   ],
   "source": [
    "df_short = df[df['treatgroup'] == 4]\n",
    "df_short['beliefadjustment_normalized'].mean()"
   ]
  },
  {
   "cell_type": "code",
   "execution_count": null,
   "metadata": {},
   "outputs": [],
   "source": []
  },
  {
   "cell_type": "code",
   "execution_count": null,
   "metadata": {},
   "outputs": [],
   "source": []
  },
  {
   "cell_type": "code",
   "execution_count": null,
   "metadata": {},
   "outputs": [],
   "source": []
  },
  {
   "cell_type": "code",
   "execution_count": null,
   "metadata": {},
   "outputs": [],
   "source": []
  },
  {
   "cell_type": "code",
   "execution_count": null,
   "metadata": {},
   "outputs": [],
   "source": []
  },
  {
   "cell_type": "code",
   "execution_count": null,
   "metadata": {},
   "outputs": [],
   "source": []
  },
  {
   "cell_type": "code",
   "execution_count": null,
   "metadata": {},
   "outputs": [],
   "source": []
  },
  {
   "cell_type": "code",
   "execution_count": null,
   "metadata": {},
   "outputs": [],
   "source": []
  },
  {
   "cell_type": "code",
   "execution_count": null,
   "metadata": {},
   "outputs": [],
   "source": []
  },
  {
   "cell_type": "code",
   "execution_count": null,
   "metadata": {},
   "outputs": [],
   "source": []
  }
 ],
 "metadata": {
  "kernelspec": {
   "display_name": "Python 3",
   "language": "python",
   "name": "python3"
  },
  "language_info": {
   "codemirror_mode": {
    "name": "ipython",
    "version": 3
   },
   "file_extension": ".py",
   "mimetype": "text/x-python",
   "name": "python",
   "nbconvert_exporter": "python",
   "pygments_lexer": "ipython3",
   "version": "3.8.5"
  },
  "toc": {
   "base_numbering": 1,
   "nav_menu": {},
   "number_sections": false,
   "sideBar": true,
   "skip_h1_title": false,
   "title_cell": "Table of Contents",
   "title_sidebar": "Contents",
   "toc_cell": true,
   "toc_position": {
    "height": "622.641px",
    "left": "691px",
    "top": "110px",
    "width": "277.4px"
   },
   "toc_section_display": true,
   "toc_window_display": true
  },
  "varInspector": {
   "cols": {
    "lenName": 16,
    "lenType": 16,
    "lenVar": 40
   },
   "kernels_config": {
    "python": {
     "delete_cmd_postfix": "",
     "delete_cmd_prefix": "del ",
     "library": "var_list.py",
     "varRefreshCmd": "print(var_dic_list())"
    },
    "r": {
     "delete_cmd_postfix": ") ",
     "delete_cmd_prefix": "rm(",
     "library": "var_list.r",
     "varRefreshCmd": "cat(var_dic_list()) "
    }
   },
   "oldHeight": 189.73845400000002,
   "position": {
    "height": "478.719px",
    "left": "987.578px",
    "right": "20px",
    "top": "283.984px",
    "width": "717.172px"
   },
   "types_to_exclude": [
    "module",
    "function",
    "builtin_function_or_method",
    "instance",
    "_Feature"
   ],
   "varInspector_section_display": "block",
   "window_display": false
  }
 },
 "nbformat": 4,
 "nbformat_minor": 4
}
